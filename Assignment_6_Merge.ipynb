{
 "cells": [
  {
   "cell_type": "code",
   "execution_count": 1,
   "id": "f162cf50-badf-4e42-a22b-17ed8ffc7a0e",
   "metadata": {},
   "outputs": [],
   "source": [
    "import pandas as pd\n",
    "import numpy as np\n",
    "import matplotlib.pyplot as plt"
   ]
  },
  {
   "cell_type": "code",
   "execution_count": 65,
   "id": "ccb3c874-5822-486f-ab63-4188a2c28b54",
   "metadata": {},
   "outputs": [],
   "source": [
    "data = [['Afghanistan', 'Dari'], ['Algeria', 'Algerian Arabic'], ['American Samoa', 'Samoan'], ['Angola', 'Portuguese'], ['Anguilla', 'English'],\n",
    "        ['Argentina', 'Spanish'], ['Armenia', 'Armenian'], ['Australia', 'English'], ['Austria', 'German'], ['Azerbaijan', 'Azerbaijani']\n",
    "       , ['Bahrain', 'Arabic'], ['Bangladesh', 'Bangla']]"
   ]
  },
  {
   "cell_type": "code",
   "execution_count": 66,
   "id": "a4f64d95-4fea-47ab-82b2-6bc6ab3cc8a1",
   "metadata": {},
   "outputs": [],
   "source": [
    "df = pd.DataFrame(data, columns=['Country', 'Language'])"
   ]
  },
  {
   "cell_type": "code",
   "execution_count": 67,
   "id": "6053e566-f03b-47c6-baf8-dcb8978b257c",
   "metadata": {},
   "outputs": [
    {
     "data": {
      "text/html": [
       "<div>\n",
       "<style scoped>\n",
       "    .dataframe tbody tr th:only-of-type {\n",
       "        vertical-align: middle;\n",
       "    }\n",
       "\n",
       "    .dataframe tbody tr th {\n",
       "        vertical-align: top;\n",
       "    }\n",
       "\n",
       "    .dataframe thead th {\n",
       "        text-align: right;\n",
       "    }\n",
       "</style>\n",
       "<table border=\"1\" class=\"dataframe\">\n",
       "  <thead>\n",
       "    <tr style=\"text-align: right;\">\n",
       "      <th></th>\n",
       "      <th>Country</th>\n",
       "      <th>Language</th>\n",
       "    </tr>\n",
       "  </thead>\n",
       "  <tbody>\n",
       "    <tr>\n",
       "      <th>0</th>\n",
       "      <td>Afghanistan</td>\n",
       "      <td>Dari</td>\n",
       "    </tr>\n",
       "    <tr>\n",
       "      <th>1</th>\n",
       "      <td>Algeria</td>\n",
       "      <td>Algerian Arabic</td>\n",
       "    </tr>\n",
       "    <tr>\n",
       "      <th>2</th>\n",
       "      <td>American Samoa</td>\n",
       "      <td>Samoan</td>\n",
       "    </tr>\n",
       "    <tr>\n",
       "      <th>3</th>\n",
       "      <td>Angola</td>\n",
       "      <td>Portuguese</td>\n",
       "    </tr>\n",
       "    <tr>\n",
       "      <th>4</th>\n",
       "      <td>Anguilla</td>\n",
       "      <td>English</td>\n",
       "    </tr>\n",
       "    <tr>\n",
       "      <th>5</th>\n",
       "      <td>Argentina</td>\n",
       "      <td>Spanish</td>\n",
       "    </tr>\n",
       "    <tr>\n",
       "      <th>6</th>\n",
       "      <td>Armenia</td>\n",
       "      <td>Armenian</td>\n",
       "    </tr>\n",
       "    <tr>\n",
       "      <th>7</th>\n",
       "      <td>Australia</td>\n",
       "      <td>English</td>\n",
       "    </tr>\n",
       "    <tr>\n",
       "      <th>8</th>\n",
       "      <td>Austria</td>\n",
       "      <td>German</td>\n",
       "    </tr>\n",
       "    <tr>\n",
       "      <th>9</th>\n",
       "      <td>Azerbaijan</td>\n",
       "      <td>Azerbaijani</td>\n",
       "    </tr>\n",
       "    <tr>\n",
       "      <th>10</th>\n",
       "      <td>Bahrain</td>\n",
       "      <td>Arabic</td>\n",
       "    </tr>\n",
       "    <tr>\n",
       "      <th>11</th>\n",
       "      <td>Bangladesh</td>\n",
       "      <td>Bangla</td>\n",
       "    </tr>\n",
       "  </tbody>\n",
       "</table>\n",
       "</div>"
      ],
      "text/plain": [
       "           Country         Language\n",
       "0      Afghanistan             Dari\n",
       "1          Algeria  Algerian Arabic\n",
       "2   American Samoa           Samoan\n",
       "3           Angola       Portuguese\n",
       "4         Anguilla          English\n",
       "5        Argentina          Spanish\n",
       "6          Armenia         Armenian\n",
       "7        Australia          English\n",
       "8          Austria           German\n",
       "9       Azerbaijan      Azerbaijani\n",
       "10         Bahrain           Arabic\n",
       "11      Bangladesh           Bangla"
      ]
     },
     "execution_count": 67,
     "metadata": {},
     "output_type": "execute_result"
    }
   ],
   "source": [
    "df"
   ]
  },
  {
   "cell_type": "code",
   "execution_count": 51,
   "id": "627af436-f09f-498d-8625-ed86dca2859d",
   "metadata": {},
   "outputs": [],
   "source": [
    "df3=pd.read_csv(\"C:\\\\Users\\\\bisha\\\\OneDrive\\\\Documents\\\\GitHub\\\\Cantek_Python_Practice\\\\Project_3_SQL_Python\\\\6_mer_sample.csv\")"
   ]
  },
  {
   "cell_type": "code",
   "execution_count": 52,
   "id": "3f0c59ec-7e7d-42d3-97b1-96b6f1d4a1e5",
   "metadata": {},
   "outputs": [],
   "source": [
    "csv_location=\"C:\\\\Users\\\\bisha\\\\OneDrive\\\\Documents\\\\GitHub\\\\Cantek_Python_Practice\\\\Project_3_SQL_Python\\\\6_mer_sample.csv\""
   ]
  },
  {
   "cell_type": "code",
   "execution_count": 53,
   "id": "e8736204-ca55-486c-ae9a-926720f982e9",
   "metadata": {},
   "outputs": [],
   "source": [
    "df3=pd.read_csv(csv_location)"
   ]
  },
  {
   "cell_type": "code",
   "execution_count": 54,
   "id": "626527b3-2d84-407e-bc45-0706fe274ea1",
   "metadata": {},
   "outputs": [
    {
     "data": {
      "text/html": [
       "<div>\n",
       "<style scoped>\n",
       "    .dataframe tbody tr th:only-of-type {\n",
       "        vertical-align: middle;\n",
       "    }\n",
       "\n",
       "    .dataframe tbody tr th {\n",
       "        vertical-align: top;\n",
       "    }\n",
       "\n",
       "    .dataframe thead th {\n",
       "        text-align: right;\n",
       "    }\n",
       "</style>\n",
       "<table border=\"1\" class=\"dataframe\">\n",
       "  <thead>\n",
       "    <tr style=\"text-align: right;\">\n",
       "      <th></th>\n",
       "      <th>country</th>\n",
       "      <th>last_update</th>\n",
       "    </tr>\n",
       "  </thead>\n",
       "  <tbody>\n",
       "    <tr>\n",
       "      <th>0</th>\n",
       "      <td>Afghanistan</td>\n",
       "      <td>2006-02-15 09:44:00</td>\n",
       "    </tr>\n",
       "    <tr>\n",
       "      <th>1</th>\n",
       "      <td>Algeria</td>\n",
       "      <td>2006-02-15 09:44:00</td>\n",
       "    </tr>\n",
       "    <tr>\n",
       "      <th>2</th>\n",
       "      <td>American Samoa</td>\n",
       "      <td>2006-02-15 09:44:00</td>\n",
       "    </tr>\n",
       "    <tr>\n",
       "      <th>3</th>\n",
       "      <td>Angola</td>\n",
       "      <td>2006-02-15 09:44:00</td>\n",
       "    </tr>\n",
       "    <tr>\n",
       "      <th>4</th>\n",
       "      <td>Anguilla</td>\n",
       "      <td>2006-02-15 09:44:00</td>\n",
       "    </tr>\n",
       "    <tr>\n",
       "      <th>5</th>\n",
       "      <td>Argentina</td>\n",
       "      <td>2006-02-15 09:44:00</td>\n",
       "    </tr>\n",
       "    <tr>\n",
       "      <th>6</th>\n",
       "      <td>Armenia</td>\n",
       "      <td>2006-02-15 09:44:00</td>\n",
       "    </tr>\n",
       "    <tr>\n",
       "      <th>7</th>\n",
       "      <td>Australia</td>\n",
       "      <td>2006-02-15 09:44:00</td>\n",
       "    </tr>\n",
       "    <tr>\n",
       "      <th>8</th>\n",
       "      <td>Austria</td>\n",
       "      <td>2006-02-15 09:44:00</td>\n",
       "    </tr>\n",
       "    <tr>\n",
       "      <th>9</th>\n",
       "      <td>Azerbaijan</td>\n",
       "      <td>2006-02-15 09:44:00</td>\n",
       "    </tr>\n",
       "    <tr>\n",
       "      <th>10</th>\n",
       "      <td>Bahrain</td>\n",
       "      <td>2006-02-15 09:44:00</td>\n",
       "    </tr>\n",
       "    <tr>\n",
       "      <th>11</th>\n",
       "      <td>Bangladesh</td>\n",
       "      <td>2006-02-15 09:44:00</td>\n",
       "    </tr>\n",
       "  </tbody>\n",
       "</table>\n",
       "</div>"
      ],
      "text/plain": [
       "           country          last_update\n",
       "0      Afghanistan  2006-02-15 09:44:00\n",
       "1          Algeria  2006-02-15 09:44:00\n",
       "2   American Samoa  2006-02-15 09:44:00\n",
       "3           Angola  2006-02-15 09:44:00\n",
       "4         Anguilla  2006-02-15 09:44:00\n",
       "5        Argentina  2006-02-15 09:44:00\n",
       "6          Armenia  2006-02-15 09:44:00\n",
       "7        Australia  2006-02-15 09:44:00\n",
       "8          Austria  2006-02-15 09:44:00\n",
       "9       Azerbaijan  2006-02-15 09:44:00\n",
       "10         Bahrain  2006-02-15 09:44:00\n",
       "11      Bangladesh  2006-02-15 09:44:00"
      ]
     },
     "execution_count": 54,
     "metadata": {},
     "output_type": "execute_result"
    }
   ],
   "source": [
    "df3"
   ]
  },
  {
   "cell_type": "code",
   "execution_count": 68,
   "id": "a73f2d83-7a62-4762-9c7e-93452d6836fe",
   "metadata": {},
   "outputs": [
    {
     "name": "stdout",
     "output_type": "stream",
     "text": [
      "           Country         Language         country          last_update\n",
      "0      Afghanistan             Dari     Afghanistan  2006-02-15 09:44:00\n",
      "1          Algeria  Algerian Arabic         Algeria  2006-02-15 09:44:00\n",
      "2   American Samoa           Samoan  American Samoa  2006-02-15 09:44:00\n",
      "3           Angola       Portuguese          Angola  2006-02-15 09:44:00\n",
      "4         Anguilla          English        Anguilla  2006-02-15 09:44:00\n",
      "5        Argentina          Spanish       Argentina  2006-02-15 09:44:00\n",
      "6          Armenia         Armenian         Armenia  2006-02-15 09:44:00\n",
      "7        Australia          English       Australia  2006-02-15 09:44:00\n",
      "8          Austria           German         Austria  2006-02-15 09:44:00\n",
      "9       Azerbaijan      Azerbaijani      Azerbaijan  2006-02-15 09:44:00\n",
      "10         Bahrain           Arabic         Bahrain  2006-02-15 09:44:00\n",
      "11      Bangladesh           Bangla      Bangladesh  2006-02-15 09:44:00\n"
     ]
    }
   ],
   "source": [
    "joined_df5 = df.join(df3, how=\"inner\")\n",
    "print(joined_df5)"
   ]
  },
  {
   "cell_type": "code",
   "execution_count": null,
   "id": "155f1a1f-33b4-4f08-bb4f-09f4255c17a0",
   "metadata": {},
   "outputs": [],
   "source": []
  }
 ],
 "metadata": {
  "kernelspec": {
   "display_name": "Python 3 (ipykernel)",
   "language": "python",
   "name": "python3"
  },
  "language_info": {
   "codemirror_mode": {
    "name": "ipython",
    "version": 3
   },
   "file_extension": ".py",
   "mimetype": "text/x-python",
   "name": "python",
   "nbconvert_exporter": "python",
   "pygments_lexer": "ipython3",
   "version": "3.11.4"
  }
 },
 "nbformat": 4,
 "nbformat_minor": 5
}
